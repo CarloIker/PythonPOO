{
  "nbformat": 4,
  "nbformat_minor": 0,
  "metadata": {
    "colab": {
      "provenance": []
    },
    "kernelspec": {
      "name": "python3",
      "display_name": "Python 3"
    },
    "language_info": {
      "name": "python"
    }
  },
  "cells": [
    {
      "cell_type": "code",
      "execution_count": null,
      "metadata": {
        "id": "PG8Aq_Ju8f33"
      },
      "outputs": [],
      "source": [
        "alumno = {'numero_cuenta' : 1232322 , 'carrera' : 'ICO' ,\n",
        "            'direccion' : {'calle' : 'rancho seco', 'numero' : 23},\n",
        "            'telefonos' : ['5528384922','5593003900']\n",
        "          }"
      ]
    },
    {
      "cell_type": "code",
      "source": [
        "print(alumno['direccion']['calle'][3:6:])\n",
        "print(alumno['telefonos'])\n",
        "print(alumno)\n",
        "alumno['facultad'] = 'FES Aragon'\n",
        "print(alumno)"
      ],
      "metadata": {
        "colab": {
          "base_uri": "https://localhost:8080/"
        },
        "id": "I5Hr_E4R9AHy",
        "outputId": "71bf6148-26fe-4e33-ad19-9cb3504c40ae"
      },
      "execution_count": null,
      "outputs": [
        {
          "output_type": "stream",
          "name": "stdout",
          "text": [
            "cho\n",
            "['5528384922', '5593003900']\n",
            "{'numero_cuenta': 1232322, 'carrera': 'ICO, ¿hay otra?', 'direccion': {'calle': 'rancho seco', 'numero': 23}, 'telefonos': ['5528384922', '5593003900']}\n",
            "{'numero_cuenta': 1232322, 'carrera': 'ICO, ¿hay otra?', 'direccion': {'calle': 'rancho seco', 'numero': 23}, 'telefonos': ['5528384922', '5593003900'], 'facultad': 'FES Aragon'}\n"
          ]
        }
      ]
    },
    {
      "cell_type": "code",
      "source": [
        "#if\n",
        "edad = 20\n",
        "if edad >= 18:\n",
        "  print(\"Eres mayor de edad.\")\n",
        "  print(\"otra cosa\")\n",
        "  print(\"algo más\")\n",
        "else:\n",
        "  print(\"Eres menor de edad.\")"
      ],
      "metadata": {
        "colab": {
          "base_uri": "https://localhost:8080/"
        },
        "id": "ZHlMwDCR-_82",
        "outputId": "23303318-577f-4707-bf67-59fa1f00de67"
      },
      "execution_count": null,
      "outputs": [
        {
          "output_type": "stream",
          "name": "stdout",
          "text": [
            "Eres mayor de edad.\n",
            "otra cosa\n",
            "algo más\n"
          ]
        }
      ]
    },
    {
      "cell_type": "code",
      "source": [
        "# if- elif - else\n",
        "edad = 14\n",
        "if edad < 13:\n",
        "    print(\"Eres un niño.\")\n",
        "elif edad < 18:\n",
        "    print(\"Eres un adolescente.\")\n",
        "else:\n",
        "    print(\"Eres un adulto.\")"
      ],
      "metadata": {
        "colab": {
          "base_uri": "https://localhost:8080/"
        },
        "id": "zL9Uk_W3_5TJ",
        "outputId": "7be6e811-e8a4-45f9-b1de-b91d4e776d25"
      },
      "execution_count": null,
      "outputs": [
        {
          "output_type": "stream",
          "name": "stdout",
          "text": [
            "Eres un adolescente.\n"
          ]
        }
      ]
    },
    {
      "cell_type": "code",
      "source": [
        "from typing import Match\n",
        "# if-elif-elif -- Seleccion multiple (switch)\n",
        "edad = 20\n",
        "if edad < 13:\n",
        "    print(\"Eres un niño.\")\n",
        "elif edad < 18:\n",
        "    print(\"Eres un adolescente.\")\n",
        "elif edad < 30:\n",
        "    print(\"Eres un joven adulto.\")"
      ],
      "metadata": {
        "colab": {
          "base_uri": "https://localhost:8080/"
        },
        "id": "TqoPxtfQAYj7",
        "outputId": "210c42d5-e50c-46d1-c3b0-ce918f9f3651"
      },
      "execution_count": null,
      "outputs": [
        {
          "output_type": "stream",
          "name": "stdout",
          "text": [
            "Eres un joven adulto.\n"
          ]
        }
      ]
    },
    {
      "cell_type": "code",
      "source": [
        "# For   for(int i = 1 ; i<10 ; i++)\n",
        "\n",
        "for i in range(10, 1, -2):\n",
        "    print(i)\n",
        "\n",
        "#limite = 10\n",
        "#for i in range(10, limite == 8, -2):\n",
        "#    print(i)"
      ],
      "metadata": {
        "colab": {
          "base_uri": "https://localhost:8080/"
        },
        "id": "X3hxfp6DBVuy",
        "outputId": "dad30f89-8162-4d76-8d7d-9e54a59d90a2"
      },
      "execution_count": null,
      "outputs": [
        {
          "output_type": "stream",
          "name": "stdout",
          "text": [
            "10\n",
            "8\n",
            "6\n",
            "4\n",
            "2\n"
          ]
        }
      ]
    },
    {
      "cell_type": "code",
      "source": [
        "frutas = ['piña', 'pera', 'manzana', 'fresa', 'aguacate']\n",
        "for numero in frutas:\n",
        "    print(numero)\n",
        "\n",
        "print('-------------------')\n",
        "\n",
        "for numero in frutas:\n",
        "    if numero == \"manzana\":\n",
        "        #break   # ó continue\n",
        "        continue\n",
        "    print(numero)  # imprime la fruta\n",
        "print(\"Fin\")"
      ],
      "metadata": {
        "colab": {
          "base_uri": "https://localhost:8080/"
        },
        "id": "JDkYSp-eCSPN",
        "outputId": "0b516c56-f318-46b0-88bd-735498090ddc"
      },
      "execution_count": null,
      "outputs": [
        {
          "output_type": "stream",
          "name": "stdout",
          "text": [
            "piña\n",
            "pera\n",
            "manzana\n",
            "fresa\n",
            "aguacate\n",
            "-------------------\n",
            "piña\n",
            "pera\n",
            "fresa\n",
            "aguacate\n",
            "Fin\n"
          ]
        }
      ]
    },
    {
      "cell_type": "code",
      "source": [
        "tam = 0\n",
        "while tam < 10:\n",
        "  print(tam)\n",
        "  tam = int(input(\"Dame un número entero: \"))\n",
        "print(\"Final\")"
      ],
      "metadata": {
        "colab": {
          "base_uri": "https://localhost:8080/"
        },
        "id": "hYqJ3XOhDo5k",
        "outputId": "49f8bc6d-3eb9-4869-82b5-c11f18ea2c0b"
      },
      "execution_count": null,
      "outputs": [
        {
          "output_type": "stream",
          "name": "stdout",
          "text": [
            "0\n",
            "Dame un número entero: 2\n",
            "2\n",
            "Dame un número entero: 8\n",
            "8\n",
            "Dame un número entero: 11\n",
            "Final\n"
          ]
        }
      ]
    }
  ]
}