{
  "nbformat": 4,
  "nbformat_minor": 0,
  "metadata": {
    "colab": {
      "provenance": [],
      "authorship_tag": "ABX9TyOHz36N6JmRE7iX75TpRit8",
      "include_colab_link": true
    },
    "kernelspec": {
      "name": "python3",
      "display_name": "Python 3"
    },
    "language_info": {
      "name": "python"
    }
  },
  "cells": [
    {
      "cell_type": "markdown",
      "metadata": {
        "id": "view-in-github",
        "colab_type": "text"
      },
      "source": [
        "<a href=\"https://colab.research.google.com/github/CarloIker/PythonPOO/blob/main/LunesPOO.ipynb\" target=\"_parent\"><img src=\"https://colab.research.google.com/assets/colab-badge.svg\" alt=\"Open In Colab\"/></a>"
      ]
    },
    {
      "cell_type": "code",
      "execution_count": 2,
      "metadata": {
        "colab": {
          "base_uri": "https://localhost:8080/"
        },
        "id": "1shby9pz3n66",
        "outputId": "c34bb055-fda0-49f0-b3dd-6001358bde12"
      },
      "outputs": [
        {
          "output_type": "stream",
          "name": "stdout",
          "text": [
            "Hola Mundo\n"
          ]
        }
      ],
      "source": [
        "#Esto es un comentario\n",
        "print(\"Hola Mundo\") # Esto imprime \"Hola Mundo\""
      ]
    },
    {
      "cell_type": "code",
      "source": [
        "!ls -a"
      ],
      "metadata": {
        "colab": {
          "base_uri": "https://localhost:8080/"
        },
        "id": "qfkRNOmz6a-7",
        "outputId": "bd5c6137-25e9-43c4-e854-f98656a5c885"
      },
      "execution_count": 4,
      "outputs": [
        {
          "output_type": "stream",
          "name": "stdout",
          "text": [
            ".  ..  .config\tsample_data\n"
          ]
        }
      ]
    },
    {
      "cell_type": "code",
      "source": [
        "print(\"Hola\", \"Mundo\")\n",
        " \n",
        "print(\"Hola\" + \"Mundo\")\n",
        " \n",
        "print(\"Hola\", \"Mundo\", sep=\"-\") # Imprime: Hola-Mundo\n",
        " \n",
        "print(\"Hola\", end=\"\")\n",
        "print(\"Mundo\") # Imprime: HolaMundo"
      ],
      "metadata": {
        "colab": {
          "base_uri": "https://localhost:8080/"
        },
        "id": "l32XFmPn7CBF",
        "outputId": "2b484237-5984-4a49-fa0d-c158eb15c601"
      },
      "execution_count": 5,
      "outputs": [
        {
          "output_type": "stream",
          "name": "stdout",
          "text": [
            "Hola Mundo\n",
            "HolaMundo\n",
            "Hola-Mundo\n",
            "HolaMundo\n"
          ]
        }
      ]
    },
    {
      "cell_type": "code",
      "source": [
        "nombre = \"José\"\n",
        "carrera = \"ICO, la mejor\"\n",
        "print(\"Mi nombre es {0} y estudio {1} en la FES Aragón\".format(nombre, carrera))\n",
        "print(f\"Mi nombre es {nombre} y estudio {carrera} en la FES Aragón\")"
      ],
      "metadata": {
        "colab": {
          "base_uri": "https://localhost:8080/"
        },
        "id": "S7ApcRJ87q8H",
        "outputId": "3bc781e5-ec08-4900-f891-488915a121a6"
      },
      "execution_count": 11,
      "outputs": [
        {
          "output_type": "stream",
          "name": "stdout",
          "text": [
            "Mi nombre es José y estudio ICO, la mejor en la FES Aragón\n",
            "Mi nombre es José y estudio ICO, la mejor en la FES Aragón\n"
          ]
        }
      ]
    },
    {
      "cell_type": "code",
      "source": [
        "# Operadores aritmeticos\n",
        "suma = 5 + 3 # 8\n",
        "resto = 5 - 3 # 2\n",
        "producto = 5 * 3 # 15\n",
        "división = 5 / 3 # 1.66667\n",
        "división2 = 5 // 3 # 1\n",
        "módulo = 5 % 3 # 2\n",
        "potencia = 5 ** 3 # 125"
      ],
      "metadata": {
        "id": "tCbUUNpF_HRc"
      },
      "execution_count": 14,
      "outputs": []
    },
    {
      "cell_type": "code",
      "source": [
        "módulo"
      ],
      "metadata": {
        "colab": {
          "base_uri": "https://localhost:8080/"
        },
        "id": "KPzToN2e_JKP",
        "outputId": "5ccb4b89-a347-4471-f08b-54bc6f8cadf7"
      },
      "execution_count": 16,
      "outputs": [
        {
          "output_type": "execute_result",
          "data": {
            "text/plain": [
              "2"
            ]
          },
          "metadata": {},
          "execution_count": 16
        }
      ]
    },
    {
      "cell_type": "code",
      "source": [
        "# Operadores de comparación\n",
        "igual = 5 == 3 # Falso\n",
        "diferente = 5 != 3 # Verdadero\n",
        "mayor_que = 5 > 3 # Verdadero\n",
        "menor_que = 5 < 3 # Falso\n",
        "mayor_o_igual_que = 5 >= 3 # Verdadero\n",
        "menor_o_igual_que = 5 <= 3 # Falso"
      ],
      "metadata": {
        "id": "OcT_PaBM_sBv"
      },
      "execution_count": 17,
      "outputs": []
    },
    {
      "cell_type": "code",
      "source": [
        "diferente"
      ],
      "metadata": {
        "colab": {
          "base_uri": "https://localhost:8080/"
        },
        "id": "x1t_xBUA_vnb",
        "outputId": "c942ea6b-e02d-45df-a193-9ed7be6502af"
      },
      "execution_count": 18,
      "outputs": [
        {
          "output_type": "execute_result",
          "data": {
            "text/plain": [
              "True"
            ]
          },
          "metadata": {},
          "execution_count": 18
        }
      ]
    },
    {
      "cell_type": "code",
      "source": [
        "y = True and False  # False\n",
        "o = True or False  # True\n",
        "no = not True  # False"
      ],
      "metadata": {
        "id": "j6h59GxfABGE"
      },
      "execution_count": 19,
      "outputs": []
    },
    {
      "cell_type": "code",
      "source": [
        "True and True and True"
      ],
      "metadata": {
        "colab": {
          "base_uri": "https://localhost:8080/"
        },
        "id": "4piUks4lAHyb",
        "outputId": "eea4e7a2-ef6e-47dc-8593-1997f1d5a6bc"
      },
      "execution_count": 21,
      "outputs": [
        {
          "output_type": "execute_result",
          "data": {
            "text/plain": [
              "True"
            ]
          },
          "metadata": {},
          "execution_count": 21
        }
      ]
    },
    {
      "cell_type": "code",
      "source": [
        "saludo = \"Hola Mundo\"\n",
        "cita = 'Los alumnos\\n de ICO dicen: \"Hola Mundo\"'\n",
        "parrafo = \"\"\"Esto es un párrafo\n",
        "que abarca varias\n",
        "líneas\"\"\""
      ],
      "metadata": {
        "id": "2JsJut7XAxR5"
      },
      "execution_count": 26,
      "outputs": []
    },
    {
      "cell_type": "code",
      "source": [
        "print(cita)\n",
        "print(parrafo)"
      ],
      "metadata": {
        "colab": {
          "base_uri": "https://localhost:8080/"
        },
        "id": "b7ERc-sCA547",
        "outputId": "146ce93e-8a04-4fab-93ee-6eb0c0aac7b4"
      },
      "execution_count": 27,
      "outputs": [
        {
          "output_type": "stream",
          "name": "stdout",
          "text": [
            "Los alumnos\n",
            " de ICO dicen: \"Hola Mundo\"\n",
            "Esto es un párrafo\n",
            "que abarca varias\n",
            "líneas\n"
          ]
        }
      ]
    },
    {
      "cell_type": "code",
      "source": [
        "def fn_uno():\n",
        "    print(\"Hola función\")\n",
        " \n",
        "a, b, c = 10, \"Hola\", fn_uno\n",
        "print(a)\n",
        "print(b)\n",
        "#print(c[1])\n",
        "print(c)\n",
        "\n",
        "c.__call__()"
      ],
      "metadata": {
        "colab": {
          "base_uri": "https://localhost:8080/"
        },
        "id": "ne5beFbeB2sV",
        "outputId": "4b22a8cf-e07d-47a0-eed5-736ff2dfd4c5"
      },
      "execution_count": 33,
      "outputs": [
        {
          "output_type": "stream",
          "name": "stdout",
          "text": [
            "10\n",
            "Hola\n",
            "<function fn_uno at 0x7f629c1f8af0>\n",
            "Hola función\n"
          ]
        }
      ]
    },
    {
      "cell_type": "code",
      "source": [
        "# entrada por teclado\n",
        "nombre = input(\"Por favor, introduce tu nombre: \")\n",
        "print(f\"Hola {nombre}!\")"
      ],
      "metadata": {
        "colab": {
          "base_uri": "https://localhost:8080/"
        },
        "id": "7YLNYtFSDDXH",
        "outputId": "d6098e30-cf42-4c90-f052-931c962cf217"
      },
      "execution_count": 34,
      "outputs": [
        {
          "output_type": "stream",
          "name": "stdout",
          "text": [
            "Por favor, introduce tu nombre: Carlo\n",
            "Hola Carlo!\n"
          ]
        }
      ]
    },
    {
      "cell_type": "code",
      "source": [
        "#Casting\n",
        "numero = int(\"20\")\n",
        "print(numero)\n",
        "\n",
        "edad = int(input(\"Introduce tu edad:\"))\n",
        "print(f\"{nombre} tiene {edad+1} años\")"
      ],
      "metadata": {
        "colab": {
          "base_uri": "https://localhost:8080/"
        },
        "id": "xH-1NPXODZgz",
        "outputId": "e113398b-4d99-472e-b65a-35244df29107"
      },
      "execution_count": 39,
      "outputs": [
        {
          "output_type": "stream",
          "name": "stdout",
          "text": [
            "20\n",
            "Introduce tu edad:19\n",
            "Carlo tiene 20 años\n"
          ]
        }
      ]
    },
    {
      "cell_type": "code",
      "source": [
        "#Variables y tipos de datos\n",
        "mensaje = \"Hola Mundo\"  # String\n",
        "edad = 20               # Integer\n",
        "pi = 3.14159            # Float\n",
        "es_mayor = True         # Boolean\n",
        "imaginario = 3 + 4j     # Imaginario"
      ],
      "metadata": {
        "id": "Kk6xYHv9EGYr"
      },
      "execution_count": 40,
      "outputs": []
    },
    {
      "cell_type": "code",
      "source": [
        "pi*2.0"
      ],
      "metadata": {
        "colab": {
          "base_uri": "https://localhost:8080/"
        },
        "id": "FLwtF-gqEUHU",
        "outputId": "de6e667c-80c2-4ef7-c152-a2e4a6f5dfb2"
      },
      "execution_count": 44,
      "outputs": [
        {
          "output_type": "execute_result",
          "data": {
            "text/plain": [
              "6.28318"
            ]
          },
          "metadata": {},
          "execution_count": 44
        }
      ]
    },
    {
      "cell_type": "code",
      "source": [
        "frutas = ['limon','aguacate','fresa']\n",
        "print(frutas[-1])"
      ],
      "metadata": {
        "colab": {
          "base_uri": "https://localhost:8080/"
        },
        "id": "NjH2tchOEwV3",
        "outputId": "b865c5c9-45c6-4f8f-d509-ea0a63bc3f0c"
      },
      "execution_count": 46,
      "outputs": [
        {
          "output_type": "stream",
          "name": "stdout",
          "text": [
            "fresa\n"
          ]
        }
      ]
    },
    {
      "cell_type": "code",
      "source": [
        "cosas = ['limon',33,3.1416,True,[1,2,3,4],3>4]\n",
        "print(cosas)"
      ],
      "metadata": {
        "colab": {
          "base_uri": "https://localhost:8080/"
        },
        "id": "rboNnk4UFjvJ",
        "outputId": "6e03f5a1-4053-4eca-e50e-0b574af58b05"
      },
      "execution_count": 47,
      "outputs": [
        {
          "output_type": "stream",
          "name": "stdout",
          "text": [
            "['limon', 33, 3.1416, True, [1, 2, 3, 4], False]\n"
          ]
        }
      ]
    },
    {
      "cell_type": "markdown",
      "source": [
        "#Silicing en Python\n",
        "[ <inicio> : <stop> : <step> ]\n",
        "\n",
        "Es la posibilidad de obtener rebanadas a paritr de un tipo de datos lista o tupla, en general de un iterable. Un tipo de dato String es un iterable.\n",
        "\n",
        "Por defecto:\n",
        "inicio = 0\n",
        "stop = tamaño de la variable\n",
        "step += 1"
      ],
      "metadata": {
        "id": "_ooUbxupF_zS"
      }
    },
    {
      "cell_type": "code",
      "source": [
        "ejemplo = [1,2,3,4,5,6,'a','b','c','d','e']\n",
        "print(ejemplo)"
      ],
      "metadata": {
        "colab": {
          "base_uri": "https://localhost:8080/"
        },
        "id": "XxOeaDVhG4_K",
        "outputId": "ef9058c5-0dec-4804-8484-1aa742225b9c"
      },
      "execution_count": 48,
      "outputs": [
        {
          "output_type": "stream",
          "name": "stdout",
          "text": [
            "[1, 2, 3, 4, 5, 6, 'a', 'b', 'c', 'd', 'e']\n"
          ]
        }
      ]
    },
    {
      "cell_type": "code",
      "source": [],
      "metadata": {
        "id": "Jj52ma7WHclz"
      },
      "execution_count": null,
      "outputs": []
    },
    {
      "cell_type": "code",
      "source": [
        "rebanada = ejemplo[6:9:]\n",
        "print(rebanada)"
      ],
      "metadata": {
        "colab": {
          "base_uri": "https://localhost:8080/"
        },
        "id": "VMNT2-fyHG38",
        "outputId": "200c505b-8613-4d76-c452-53f46e0361f3"
      },
      "execution_count": 54,
      "outputs": [
        {
          "output_type": "stream",
          "name": "stdout",
          "text": [
            "['a', 'b', 'c']\n"
          ]
        }
      ]
    },
    {
      "cell_type": "code",
      "source": [
        "frutas_dos = ('aguacate','limon','naranja')\n",
        "print(frutas)\n",
        "print(frutas_dos)\n",
        "\n",
        "frutas[1] = 'Piña'\n",
        "#frutas_dos[1] = 'Piña'\n",
        "\n",
        "print(frutas[-1:-4:-1])\n",
        "print(frutas_dos[1])"
      ],
      "metadata": {
        "colab": {
          "base_uri": "https://localhost:8080/"
        },
        "id": "D5FMQwSWIrE_",
        "outputId": "dab6eb50-3134-4618-8d78-b3e1925237c3"
      },
      "execution_count": 62,
      "outputs": [
        {
          "output_type": "stream",
          "name": "stdout",
          "text": [
            "['limon', 'Piña', 'fresa']\n",
            "('aguacate', 'limon', 'naranja')\n",
            "['fresa', 'Piña', 'limon']\n",
            "limon\n"
          ]
        }
      ]
    },
    {
      "cell_type": "markdown",
      "source": [
        "#Diccionario teoría\n",
        "\n",
        "1. Es un conjunto de pares llave valor.\n",
        "1. Agrupados por ':'\n",
        "1. La llave siempre es de tipo string\n",
        "1. El valor puede ser de cualquier tipo.\n",
        "1. El selector de la forma ['llave']\n",
        "1. Mutable\n",
        "1. Se declara entre los caracteres '{ y }'"
      ],
      "metadata": {
        "id": "XFLKWTPhKJ2_"
      }
    },
    {
      "cell_type": "code",
      "source": [
        "alumno = {\n",
        "    'numero_cuenta': 1234555, \n",
        "    'carrera':'ICO',\n",
        "    'direccion': {'calle':'rancho seco', 'numero': 23}\n",
        "    }\n",
        "print(alumno['direccion']['numero'])\n",
        "print(alumno['direccion']['calle'][3:6:1])"
      ],
      "metadata": {
        "colab": {
          "base_uri": "https://localhost:8080/"
        },
        "id": "D-xdRMwdKq1K",
        "outputId": "e215ecb4-c860-4bc5-f583-b8c1a8e2ed31"
      },
      "execution_count": 70,
      "outputs": [
        {
          "output_type": "stream",
          "name": "stdout",
          "text": [
            "23\n",
            "cho\n"
          ]
        }
      ]
    }
  ]
}